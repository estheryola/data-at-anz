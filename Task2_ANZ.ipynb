{
 "cells": [
  {
   "cell_type": "markdown",
   "id": "e5c8db3a",
   "metadata": {},
   "source": [
    "### Import library"
   ]
  },
  {
   "cell_type": "code",
   "execution_count": 7,
   "id": "94ede8f7",
   "metadata": {},
   "outputs": [],
   "source": [
    "import pandas as pd\n",
    "import numpy as np\n",
    "import seaborn as sns\n",
    "import matplotlib.pyplot as plt\n",
    "from statistics import mode\n",
    "\n",
    "from sklearn.model_selection import train_test_split\n",
    "from sklearn.preprocessing import OneHotEncoder, StandardScaler\n",
    "from sklearn.linear_model import LinearRegression\n",
    "from sklearn.tree import DecisionTreeRegressor\n",
    "from sklearn.compose import make_column_transformer\n",
    "from sklearn.pipeline import make_pipeline\n",
    "from sklearn.metrics import mean_squared_error"
   ]
  },
  {
   "cell_type": "markdown",
   "id": "db026f10",
   "metadata": {},
   "source": [
    "### Load data"
   ]
  },
  {
   "cell_type": "code",
   "execution_count": 8,
   "id": "14930523",
   "metadata": {},
   "outputs": [
    {
     "data": {
      "text/html": [
       "<div>\n",
       "<style scoped>\n",
       "    .dataframe tbody tr th:only-of-type {\n",
       "        vertical-align: middle;\n",
       "    }\n",
       "\n",
       "    .dataframe tbody tr th {\n",
       "        vertical-align: top;\n",
       "    }\n",
       "\n",
       "    .dataframe thead th {\n",
       "        text-align: right;\n",
       "    }\n",
       "</style>\n",
       "<table border=\"1\" class=\"dataframe\">\n",
       "  <thead>\n",
       "    <tr style=\"text-align: right;\">\n",
       "      <th></th>\n",
       "      <th>status</th>\n",
       "      <th>card_present_flag</th>\n",
       "      <th>account</th>\n",
       "      <th>long_lat</th>\n",
       "      <th>txn_description</th>\n",
       "      <th>merchant_id</th>\n",
       "      <th>first_name</th>\n",
       "      <th>balance</th>\n",
       "      <th>date</th>\n",
       "      <th>gender</th>\n",
       "      <th>...</th>\n",
       "      <th>merchant_state</th>\n",
       "      <th>extraction</th>\n",
       "      <th>amount</th>\n",
       "      <th>transaction_id</th>\n",
       "      <th>customer_id</th>\n",
       "      <th>merchant_long_lat</th>\n",
       "      <th>movement</th>\n",
       "      <th>month</th>\n",
       "      <th>dayofweek</th>\n",
       "      <th>hour</th>\n",
       "    </tr>\n",
       "  </thead>\n",
       "  <tbody>\n",
       "    <tr>\n",
       "      <th>0</th>\n",
       "      <td>authorized</td>\n",
       "      <td>1.0</td>\n",
       "      <td>ACC-1598451071</td>\n",
       "      <td>153.41 -27.95</td>\n",
       "      <td>POS</td>\n",
       "      <td>81c48296-73be-44a7-befa-d053f48ce7cd</td>\n",
       "      <td>Diana</td>\n",
       "      <td>35.39</td>\n",
       "      <td>2018-08-01</td>\n",
       "      <td>F</td>\n",
       "      <td>...</td>\n",
       "      <td>QLD</td>\n",
       "      <td>01:01:15</td>\n",
       "      <td>16.25</td>\n",
       "      <td>a623070bfead4541a6b0fff8a09e706c</td>\n",
       "      <td>CUS-2487424745</td>\n",
       "      <td>153.38 -27.99</td>\n",
       "      <td>debit</td>\n",
       "      <td>8</td>\n",
       "      <td>2</td>\n",
       "      <td>01</td>\n",
       "    </tr>\n",
       "    <tr>\n",
       "      <th>1</th>\n",
       "      <td>authorized</td>\n",
       "      <td>0.0</td>\n",
       "      <td>ACC-1598451071</td>\n",
       "      <td>153.41 -27.95</td>\n",
       "      <td>SALES-POS</td>\n",
       "      <td>830a451c-316e-4a6a-bf25-e37caedca49e</td>\n",
       "      <td>Diana</td>\n",
       "      <td>21.20</td>\n",
       "      <td>2018-08-01</td>\n",
       "      <td>F</td>\n",
       "      <td>...</td>\n",
       "      <td>NSW</td>\n",
       "      <td>01:13:45</td>\n",
       "      <td>14.19</td>\n",
       "      <td>13270a2a902145da9db4c951e04b51b9</td>\n",
       "      <td>CUS-2487424745</td>\n",
       "      <td>151.21 -33.87</td>\n",
       "      <td>debit</td>\n",
       "      <td>8</td>\n",
       "      <td>2</td>\n",
       "      <td>01</td>\n",
       "    </tr>\n",
       "    <tr>\n",
       "      <th>2</th>\n",
       "      <td>authorized</td>\n",
       "      <td>1.0</td>\n",
       "      <td>ACC-1222300524</td>\n",
       "      <td>151.23 -33.94</td>\n",
       "      <td>POS</td>\n",
       "      <td>835c231d-8cdf-4e96-859d-e9d571760cf0</td>\n",
       "      <td>Michael</td>\n",
       "      <td>5.71</td>\n",
       "      <td>2018-08-01</td>\n",
       "      <td>M</td>\n",
       "      <td>...</td>\n",
       "      <td>NSW</td>\n",
       "      <td>01:26:15</td>\n",
       "      <td>6.42</td>\n",
       "      <td>feb79e7ecd7048a5a36ec889d1a94270</td>\n",
       "      <td>CUS-2142601169</td>\n",
       "      <td>151.21 -33.87</td>\n",
       "      <td>debit</td>\n",
       "      <td>8</td>\n",
       "      <td>2</td>\n",
       "      <td>01</td>\n",
       "    </tr>\n",
       "    <tr>\n",
       "      <th>3</th>\n",
       "      <td>authorized</td>\n",
       "      <td>1.0</td>\n",
       "      <td>ACC-1037050564</td>\n",
       "      <td>153.10 -27.66</td>\n",
       "      <td>SALES-POS</td>\n",
       "      <td>48514682-c78a-4a88-b0da-2d6302e64673</td>\n",
       "      <td>Rhonda</td>\n",
       "      <td>2117.22</td>\n",
       "      <td>2018-08-01</td>\n",
       "      <td>F</td>\n",
       "      <td>...</td>\n",
       "      <td>QLD</td>\n",
       "      <td>01:38:45</td>\n",
       "      <td>40.90</td>\n",
       "      <td>2698170da3704fd981b15e64a006079e</td>\n",
       "      <td>CUS-1614226872</td>\n",
       "      <td>153.05 -26.68</td>\n",
       "      <td>debit</td>\n",
       "      <td>8</td>\n",
       "      <td>2</td>\n",
       "      <td>01</td>\n",
       "    </tr>\n",
       "    <tr>\n",
       "      <th>4</th>\n",
       "      <td>authorized</td>\n",
       "      <td>1.0</td>\n",
       "      <td>ACC-1598451071</td>\n",
       "      <td>153.41 -27.95</td>\n",
       "      <td>SALES-POS</td>\n",
       "      <td>b4e02c10-0852-4273-b8fd-7b3395e32eb0</td>\n",
       "      <td>Diana</td>\n",
       "      <td>17.95</td>\n",
       "      <td>2018-08-01</td>\n",
       "      <td>F</td>\n",
       "      <td>...</td>\n",
       "      <td>QLD</td>\n",
       "      <td>01:51:15</td>\n",
       "      <td>3.25</td>\n",
       "      <td>329adf79878c4cf0aeb4188b4691c266</td>\n",
       "      <td>CUS-2487424745</td>\n",
       "      <td>153.44 -28.06</td>\n",
       "      <td>debit</td>\n",
       "      <td>8</td>\n",
       "      <td>2</td>\n",
       "      <td>01</td>\n",
       "    </tr>\n",
       "  </tbody>\n",
       "</table>\n",
       "<p>5 rows × 22 columns</p>\n",
       "</div>"
      ],
      "text/plain": [
       "       status card_present_flag         account       long_lat  \\\n",
       "0  authorized               1.0  ACC-1598451071  153.41 -27.95   \n",
       "1  authorized               0.0  ACC-1598451071  153.41 -27.95   \n",
       "2  authorized               1.0  ACC-1222300524  151.23 -33.94   \n",
       "3  authorized               1.0  ACC-1037050564  153.10 -27.66   \n",
       "4  authorized               1.0  ACC-1598451071  153.41 -27.95   \n",
       "\n",
       "  txn_description                           merchant_id first_name  balance  \\\n",
       "0             POS  81c48296-73be-44a7-befa-d053f48ce7cd      Diana    35.39   \n",
       "1       SALES-POS  830a451c-316e-4a6a-bf25-e37caedca49e      Diana    21.20   \n",
       "2             POS  835c231d-8cdf-4e96-859d-e9d571760cf0    Michael     5.71   \n",
       "3       SALES-POS  48514682-c78a-4a88-b0da-2d6302e64673     Rhonda  2117.22   \n",
       "4       SALES-POS  b4e02c10-0852-4273-b8fd-7b3395e32eb0      Diana    17.95   \n",
       "\n",
       "        date gender  ...  merchant_state extraction amount  \\\n",
       "0 2018-08-01      F  ...             QLD   01:01:15  16.25   \n",
       "1 2018-08-01      F  ...             NSW   01:13:45  14.19   \n",
       "2 2018-08-01      M  ...             NSW   01:26:15   6.42   \n",
       "3 2018-08-01      F  ...             QLD   01:38:45  40.90   \n",
       "4 2018-08-01      F  ...             QLD   01:51:15   3.25   \n",
       "\n",
       "                     transaction_id     customer_id merchant_long_lat  \\\n",
       "0  a623070bfead4541a6b0fff8a09e706c  CUS-2487424745     153.38 -27.99   \n",
       "1  13270a2a902145da9db4c951e04b51b9  CUS-2487424745     151.21 -33.87   \n",
       "2  feb79e7ecd7048a5a36ec889d1a94270  CUS-2142601169     151.21 -33.87   \n",
       "3  2698170da3704fd981b15e64a006079e  CUS-1614226872     153.05 -26.68   \n",
       "4  329adf79878c4cf0aeb4188b4691c266  CUS-2487424745     153.44 -28.06   \n",
       "\n",
       "  movement month dayofweek  hour  \n",
       "0    debit     8         2    01  \n",
       "1    debit     8         2    01  \n",
       "2    debit     8         2    01  \n",
       "3    debit     8         2    01  \n",
       "4    debit     8         2    01  \n",
       "\n",
       "[5 rows x 22 columns]"
      ]
     },
     "execution_count": 8,
     "metadata": {},
     "output_type": "execute_result"
    }
   ],
   "source": [
    "data = pd.read_pickle(\"C:/Users/ESTHER YOLANDA T/data.pk1\")\n",
    "data.head()"
   ]
  },
  {
   "cell_type": "markdown",
   "id": "0aebaedf",
   "metadata": {},
   "source": [
    "### Target variable"
   ]
  },
  {
   "cell_type": "markdown",
   "id": "679d89ef",
   "metadata": {},
   "source": [
    "Collect all the unique customer ids and put it into a dataframe"
   ]
  },
  {
   "cell_type": "code",
   "execution_count": 9,
   "id": "0563671c",
   "metadata": {},
   "outputs": [
    {
     "data": {
      "text/html": [
       "<div>\n",
       "<style scoped>\n",
       "    .dataframe tbody tr th:only-of-type {\n",
       "        vertical-align: middle;\n",
       "    }\n",
       "\n",
       "    .dataframe tbody tr th {\n",
       "        vertical-align: top;\n",
       "    }\n",
       "\n",
       "    .dataframe thead th {\n",
       "        text-align: right;\n",
       "    }\n",
       "</style>\n",
       "<table border=\"1\" class=\"dataframe\">\n",
       "  <thead>\n",
       "    <tr style=\"text-align: right;\">\n",
       "      <th></th>\n",
       "      <th>customer_id</th>\n",
       "    </tr>\n",
       "  </thead>\n",
       "  <tbody>\n",
       "    <tr>\n",
       "      <th>0</th>\n",
       "      <td>CUS-2487424745</td>\n",
       "    </tr>\n",
       "    <tr>\n",
       "      <th>1</th>\n",
       "      <td>CUS-2142601169</td>\n",
       "    </tr>\n",
       "    <tr>\n",
       "      <th>2</th>\n",
       "      <td>CUS-1614226872</td>\n",
       "    </tr>\n",
       "    <tr>\n",
       "      <th>3</th>\n",
       "      <td>CUS-2688605418</td>\n",
       "    </tr>\n",
       "    <tr>\n",
       "      <th>4</th>\n",
       "      <td>CUS-4123612273</td>\n",
       "    </tr>\n",
       "  </tbody>\n",
       "</table>\n",
       "</div>"
      ],
      "text/plain": [
       "      customer_id\n",
       "0  CUS-2487424745\n",
       "1  CUS-2142601169\n",
       "2  CUS-1614226872\n",
       "3  CUS-2688605418\n",
       "4  CUS-4123612273"
      ]
     },
     "execution_count": 9,
     "metadata": {},
     "output_type": "execute_result"
    }
   ],
   "source": [
    "#Check the salary payment of each customer\n",
    "salary_df = pd.DataFrame({\"customer_id\": data.customer_id.unique()})\n",
    "salary_df.head()"
   ]
  },
  {
   "cell_type": "code",
   "execution_count": 11,
   "id": "23597660",
   "metadata": {},
   "outputs": [
    {
     "data": {
      "text/html": [
       "<div>\n",
       "<style scoped>\n",
       "    .dataframe tbody tr th:only-of-type {\n",
       "        vertical-align: middle;\n",
       "    }\n",
       "\n",
       "    .dataframe tbody tr th {\n",
       "        vertical-align: top;\n",
       "    }\n",
       "\n",
       "    .dataframe thead th {\n",
       "        text-align: right;\n",
       "    }\n",
       "</style>\n",
       "<table border=\"1\" class=\"dataframe\">\n",
       "  <thead>\n",
       "    <tr style=\"text-align: right;\">\n",
       "      <th></th>\n",
       "      <th>customer_id</th>\n",
       "      <th>salary_freq</th>\n",
       "      <th>salary_amount</th>\n",
       "      <th>annual_salary</th>\n",
       "    </tr>\n",
       "  </thead>\n",
       "  <tbody>\n",
       "    <tr>\n",
       "      <th>0</th>\n",
       "      <td>CUS-2487424745</td>\n",
       "      <td>7</td>\n",
       "      <td>1013.67</td>\n",
       "      <td>52891.852500</td>\n",
       "    </tr>\n",
       "    <tr>\n",
       "      <th>1</th>\n",
       "      <td>CUS-2142601169</td>\n",
       "      <td>7</td>\n",
       "      <td>1002.13</td>\n",
       "      <td>52289.711786</td>\n",
       "    </tr>\n",
       "    <tr>\n",
       "      <th>2</th>\n",
       "      <td>CUS-1614226872</td>\n",
       "      <td>7</td>\n",
       "      <td>892.09</td>\n",
       "      <td>46547.981786</td>\n",
       "    </tr>\n",
       "    <tr>\n",
       "      <th>3</th>\n",
       "      <td>CUS-2688605418</td>\n",
       "      <td>14</td>\n",
       "      <td>2320.30</td>\n",
       "      <td>60534.969643</td>\n",
       "    </tr>\n",
       "    <tr>\n",
       "      <th>4</th>\n",
       "      <td>CUS-4123612273</td>\n",
       "      <td>7</td>\n",
       "      <td>1068.04</td>\n",
       "      <td>55728.801429</td>\n",
       "    </tr>\n",
       "  </tbody>\n",
       "</table>\n",
       "</div>"
      ],
      "text/plain": [
       "      customer_id  salary_freq  salary_amount  annual_salary\n",
       "0  CUS-2487424745            7        1013.67   52891.852500\n",
       "1  CUS-2142601169            7        1002.13   52289.711786\n",
       "2  CUS-1614226872            7         892.09   46547.981786\n",
       "3  CUS-2688605418           14        2320.30   60534.969643\n",
       "4  CUS-4123612273            7        1068.04   55728.801429"
      ]
     },
     "execution_count": 11,
     "metadata": {},
     "output_type": "execute_result"
    }
   ],
   "source": [
    "df_freq = []\n",
    "df_amount = []\n",
    "\n",
    "for customer in range(len(salary_df)):\n",
    "    salary = data.loc[(data.customer_id == salary_df.customer_id[customer]) & (data.txn_description == \"PAY/SALARY\"), [\"date\", \"amount\"]].groupby(\"date\", as_index = False).sum()\n",
    "    count = len(salary)\n",
    "    if count == 0:\n",
    "        df_amount.append(np.nan)\n",
    "        df_freq.append(np.nan)\n",
    "    else:\n",
    "        days_between_payments = []\n",
    "        for date in range(len(salary)-1):\n",
    "            days_between_payments.append((salary.date[date + 1] - salary.date[date]).days)\n",
    "        df_freq.append(max(days_between_payments))\n",
    "        df_amount.append(mode(salary.amount))\n",
    "\n",
    "salary_df[\"salary_freq\"] = df_freq\n",
    "salary_df[\"salary_amount\"] = df_amount       \n",
    "salary_df[\"annual_salary\"] = salary_df[\"salary_amount\"] / salary_df[\"salary_freq\"] * 365.25\n",
    "salary_df.head()"
   ]
  },
  {
   "cell_type": "code",
   "execution_count": 13,
   "id": "31ab457a",
   "metadata": {},
   "outputs": [
    {
     "name": "stderr",
     "output_type": "stream",
     "text": [
      "C:\\Users\\ESTHER YOLANDA T\\anaconda3\\lib\\site-packages\\seaborn\\distributions.py:2557: FutureWarning: `distplot` is a deprecated function and will be removed in a future version. Please adapt your code to use either `displot` (a figure-level function with similar flexibility) or `histplot` (an axes-level function for histograms).\n",
      "  warnings.warn(msg, FutureWarning)\n"
     ]
    },
    {
     "data": {
      "text/plain": [
       "Text(0.5, 0, 'Annual salary')"
      ]
     },
     "execution_count": 13,
     "metadata": {},
     "output_type": "execute_result"
    },
    {
     "data": {
      "image/png": "[encoded data removed]",
      "text/plain": [
       "<Figure size 720x360 with 1 Axes>"
      ]
     },
     "metadata": {
      "needs_background": "light"
     },
     "output_type": "display_data"
    }
   ],
   "source": [
    "plt.figure(figsize = (10, 5))\n",
    "sns.distplot(salary_df.annual_salary)\n",
    "plt.title(\"Distribution of customers annual salary\")\n",
    "plt.xlabel(\"Annual salary\")"
   ]
  },
  {
   "cell_type": "markdown",
   "id": "529670d0",
   "metadata": {},
   "source": [
    "#### Predictor variables"
   ]
  },
  {
   "cell_type": "code",
   "execution_count": 15,
   "id": "81a72bd1",
   "metadata": {},
   "outputs": [
    {
     "data": {
      "text/plain": [
       "100"
      ]
     },
     "execution_count": 15,
     "metadata": {},
     "output_type": "execute_result"
    }
   ],
   "source": [
    "#Unique customer ids\n",
    "unique_id = data.customer_id.unique()\n",
    "len(unique_id)"
   ]
  },
  {
   "cell_type": "code",
   "execution_count": 17,
   "id": "321708f4",
   "metadata": {},
   "outputs": [
    {
     "data": {
      "text/plain": [
       "[48, 29, 24, 14, 21]"
      ]
     },
     "execution_count": 17,
     "metadata": {},
     "output_type": "execute_result"
    }
   ],
   "source": [
    "#Average number -> weekly transactions\n",
    "avg_weekly = []\n",
    "for id_ in unique_id:\n",
    "    array = data.loc[data.customer_id == id_, \"date\"]\n",
    "    avg_weekly.append(round(len(array)/array.nunique()*7))\n",
    "avg_weekly[:5]"
   ]
  },
  {
   "cell_type": "code",
   "execution_count": 19,
   "id": "3cc9f48f",
   "metadata": {},
   "outputs": [
    {
     "data": {
      "text/plain": [
       "[1452.21, 2349.55, 892.09, 2320.3, 1068.04]"
      ]
     },
     "execution_count": 19,
     "metadata": {},
     "output_type": "execute_result"
    }
   ],
   "source": [
    "#Maximum amount\n",
    "max_amount = []\n",
    "for id_ in unique_id:\n",
    "    array = data.loc[data.customer_id == id_, \"amount\"]\n",
    "    max_amount.append(max(array))\n",
    "max_amount[:5]"
   ]
  },
  {
   "cell_type": "code",
   "execution_count": 20,
   "id": "3f4a07af",
   "metadata": {},
   "outputs": [
    {
     "data": {
      "text/plain": [
       "[22, 23, 22, 25, 32]"
      ]
     },
     "execution_count": 20,
     "metadata": {},
     "output_type": "execute_result"
    }
   ],
   "source": [
    "#Number of >$100 transactions\n",
    "not_large = []\n",
    "for id_ in unique_id:\n",
    "    count=0\n",
    "    array=data.loc[data.customer_id == id_, \"amount\"]\n",
    "    for amount in array:\n",
    "        if amount > 100:\n",
    "            count += 1\n",
    "    not_large.append(count)\n",
    "not_large[:5]"
   ]
  },
  {
   "cell_type": "code",
   "execution_count": 22,
   "id": "ba6f7b6c",
   "metadata": {},
   "outputs": [
    {
     "data": {
      "text/plain": [
       "[85, 74, 76, 63, 44]"
      ]
     },
     "execution_count": 22,
     "metadata": {},
     "output_type": "execute_result"
    }
   ],
   "source": [
    "#Number of dsays with transactions\n",
    "no_day = []\n",
    "for id_ in unique_id:\n",
    "    array=data.loc[data.customer_id == id_, \"date\"]\n",
    "    no_day.append(array.nunique())\n",
    "no_day[:5]"
   ]
  },
  {
   "cell_type": "code",
   "execution_count": 23,
   "id": "e046fd74",
   "metadata": {},
   "outputs": [
    {
     "data": {
      "text/plain": [
       "[45.34877162629756,\n",
       " 78.20610561056101,\n",
       " 74.46501930501928,\n",
       " 159.3041860465116,\n",
       " 166.50835820895517]"
      ]
     },
     "execution_count": 23,
     "metadata": {},
     "output_type": "execute_result"
    }
   ],
   "source": [
    "#Average transaction\n",
    "avg_trx = []\n",
    "for id_ in unique_id:\n",
    "    array=data.loc[data.customer_id == id_, \"amount\"]\n",
    "    avg_trx.append(array.mean())\n",
    "avg_trx[:5]"
   ]
  },
  {
   "cell_type": "code",
   "execution_count": 24,
   "id": "d434a41b",
   "metadata": {},
   "outputs": [
    {
     "data": {
      "text/plain": [
       "[1580.4, 1132.66, 3618.5, 5616.63, 6162.45]"
      ]
     },
     "execution_count": 24,
     "metadata": {},
     "output_type": "execute_result"
    }
   ],
   "source": [
    "#Median\n",
    "median_blc = []\n",
    "for id_ in unique_id:\n",
    "    array=data.loc[data.customer_id == id_, \"balance\"]\n",
    "    median_blc.append(array.median())\n",
    "median_blc[:5]"
   ]
  },
  {
   "cell_type": "code",
   "execution_count": 25,
   "id": "f48cd420",
   "metadata": {},
   "outputs": [
    {
     "data": {
      "text/plain": [
       "['QLD', 'NSW', 'QLD', 'NSW', 'VIC']"
      ]
     },
     "execution_count": 25,
     "metadata": {},
     "output_type": "execute_result"
    }
   ],
   "source": [
    "#State of residence\n",
    "state = []\n",
    "for id_ in unique_id:\n",
    "    array=data.loc[data.customer_id == id_, \"merchant_state\"]\n",
    "    state.append(mode(array))\n",
    "state[:5]"
   ]
  },
  {
   "cell_type": "code",
   "execution_count": 26,
   "id": "759cae76",
   "metadata": {},
   "outputs": [
    {
     "data": {
      "text/plain": [
       "[26, 38, 40, 20, 43]"
      ]
     },
     "execution_count": 26,
     "metadata": {},
     "output_type": "execute_result"
    }
   ],
   "source": [
    "#Age\n",
    "age = []\n",
    "for id_ in unique_id:\n",
    "    array=data.loc[data.customer_id == id_, \"age\"]\n",
    "    age.append(mode(array))\n",
    "age[:5]"
   ]
  },
  {
   "cell_type": "code",
   "execution_count": 27,
   "id": "8b9a3b72",
   "metadata": {},
   "outputs": [
    {
     "data": {
      "text/plain": [
       "['F', 'M', 'F', 'M', 'F']"
      ]
     },
     "execution_count": 27,
     "metadata": {},
     "output_type": "execute_result"
    }
   ],
   "source": [
    "#Gender\n",
    "gender = []\n",
    "for id_ in unique_id:\n",
    "    array=data.loc[data.customer_id == id_, \"gender\"]\n",
    "    gender.append(mode(array))\n",
    "gender[:5]"
   ]
  },
  {
   "cell_type": "code",
   "execution_count": 36,
   "id": "874d8418",
   "metadata": {},
   "outputs": [
    {
     "data": {
      "text/html": [
       "<div>\n",
       "<style scoped>\n",
       "    .dataframe tbody tr th:only-of-type {\n",
       "        vertical-align: middle;\n",
       "    }\n",
       "\n",
       "    .dataframe tbody tr th {\n",
       "        vertical-align: top;\n",
       "    }\n",
       "\n",
       "    .dataframe thead th {\n",
       "        text-align: right;\n",
       "    }\n",
       "</style>\n",
       "<table border=\"1\" class=\"dataframe\">\n",
       "  <thead>\n",
       "    <tr style=\"text-align: right;\">\n",
       "      <th></th>\n",
       "      <th>customer_id</th>\n",
       "      <th>max_amount</th>\n",
       "      <th>avg_weekly</th>\n",
       "      <th>not_large</th>\n",
       "      <th>avg_trx</th>\n",
       "      <th>median_blc</th>\n",
       "      <th>state</th>\n",
       "      <th>age</th>\n",
       "      <th>gender</th>\n",
       "    </tr>\n",
       "  </thead>\n",
       "  <tbody>\n",
       "    <tr>\n",
       "      <th>0</th>\n",
       "      <td>CUS-2487424745</td>\n",
       "      <td>1452.21</td>\n",
       "      <td>48</td>\n",
       "      <td>22</td>\n",
       "      <td>45.348772</td>\n",
       "      <td>1580.40</td>\n",
       "      <td>QLD</td>\n",
       "      <td>26</td>\n",
       "      <td>F</td>\n",
       "    </tr>\n",
       "    <tr>\n",
       "      <th>1</th>\n",
       "      <td>CUS-2142601169</td>\n",
       "      <td>2349.55</td>\n",
       "      <td>29</td>\n",
       "      <td>23</td>\n",
       "      <td>78.206106</td>\n",
       "      <td>1132.66</td>\n",
       "      <td>NSW</td>\n",
       "      <td>38</td>\n",
       "      <td>M</td>\n",
       "    </tr>\n",
       "    <tr>\n",
       "      <th>2</th>\n",
       "      <td>CUS-1614226872</td>\n",
       "      <td>892.09</td>\n",
       "      <td>24</td>\n",
       "      <td>22</td>\n",
       "      <td>74.465019</td>\n",
       "      <td>3618.50</td>\n",
       "      <td>QLD</td>\n",
       "      <td>40</td>\n",
       "      <td>F</td>\n",
       "    </tr>\n",
       "    <tr>\n",
       "      <th>3</th>\n",
       "      <td>CUS-2688605418</td>\n",
       "      <td>2320.30</td>\n",
       "      <td>14</td>\n",
       "      <td>25</td>\n",
       "      <td>159.304186</td>\n",
       "      <td>5616.63</td>\n",
       "      <td>NSW</td>\n",
       "      <td>20</td>\n",
       "      <td>M</td>\n",
       "    </tr>\n",
       "    <tr>\n",
       "      <th>4</th>\n",
       "      <td>CUS-4123612273</td>\n",
       "      <td>1068.04</td>\n",
       "      <td>21</td>\n",
       "      <td>32</td>\n",
       "      <td>166.508358</td>\n",
       "      <td>6162.45</td>\n",
       "      <td>VIC</td>\n",
       "      <td>43</td>\n",
       "      <td>F</td>\n",
       "    </tr>\n",
       "  </tbody>\n",
       "</table>\n",
       "</div>"
      ],
      "text/plain": [
       "      customer_id  max_amount  avg_weekly  not_large     avg_trx  median_blc  \\\n",
       "0  CUS-2487424745     1452.21          48         22   45.348772     1580.40   \n",
       "1  CUS-2142601169     2349.55          29         23   78.206106     1132.66   \n",
       "2  CUS-1614226872      892.09          24         22   74.465019     3618.50   \n",
       "3  CUS-2688605418     2320.30          14         25  159.304186     5616.63   \n",
       "4  CUS-4123612273     1068.04          21         32  166.508358     6162.45   \n",
       "\n",
       "  state  age gender  \n",
       "0   QLD   26      F  \n",
       "1   NSW   38      M  \n",
       "2   QLD   40      F  \n",
       "3   NSW   20      M  \n",
       "4   VIC   43      F  "
      ]
     },
     "execution_count": 36,
     "metadata": {},
     "output_type": "execute_result"
    }
   ],
   "source": [
    "#Predictor variables\n",
    "features_df = pd.DataFrame({\"customer_id\": unique_id,\n",
    "                            \"max_amount\": max_amount,\n",
    "                           \"avg_weekly\": avg_weekly,\n",
    "                           \"not_large\": not_large,\n",
    "                           \"avg_trx\": avg_trx,\n",
    "                           \"median_blc\": median_blc,\n",
    "                           \"state\": state,\n",
    "                           \"age\": age,\n",
    "                           \"gender\": gender})\n",
    "features_df.head()"
   ]
  },
  {
   "cell_type": "code",
   "execution_count": 37,
   "id": "ab903640",
   "metadata": {},
   "outputs": [
    {
     "data": {
      "text/html": [
       "<div>\n",
       "<style scoped>\n",
       "    .dataframe tbody tr th:only-of-type {\n",
       "        vertical-align: middle;\n",
       "    }\n",
       "\n",
       "    .dataframe tbody tr th {\n",
       "        vertical-align: top;\n",
       "    }\n",
       "\n",
       "    .dataframe thead th {\n",
       "        text-align: right;\n",
       "    }\n",
       "</style>\n",
       "<table border=\"1\" class=\"dataframe\">\n",
       "  <thead>\n",
       "    <tr style=\"text-align: right;\">\n",
       "      <th></th>\n",
       "      <th>customer_id</th>\n",
       "      <th>salary_freq</th>\n",
       "      <th>salary_amount</th>\n",
       "      <th>annual_salary</th>\n",
       "    </tr>\n",
       "  </thead>\n",
       "  <tbody>\n",
       "    <tr>\n",
       "      <th>0</th>\n",
       "      <td>CUS-2487424745</td>\n",
       "      <td>7</td>\n",
       "      <td>1013.67</td>\n",
       "      <td>52891.852500</td>\n",
       "    </tr>\n",
       "    <tr>\n",
       "      <th>1</th>\n",
       "      <td>CUS-2142601169</td>\n",
       "      <td>7</td>\n",
       "      <td>1002.13</td>\n",
       "      <td>52289.711786</td>\n",
       "    </tr>\n",
       "    <tr>\n",
       "      <th>2</th>\n",
       "      <td>CUS-1614226872</td>\n",
       "      <td>7</td>\n",
       "      <td>892.09</td>\n",
       "      <td>46547.981786</td>\n",
       "    </tr>\n",
       "    <tr>\n",
       "      <th>3</th>\n",
       "      <td>CUS-2688605418</td>\n",
       "      <td>14</td>\n",
       "      <td>2320.30</td>\n",
       "      <td>60534.969643</td>\n",
       "    </tr>\n",
       "    <tr>\n",
       "      <th>4</th>\n",
       "      <td>CUS-4123612273</td>\n",
       "      <td>7</td>\n",
       "      <td>1068.04</td>\n",
       "      <td>55728.801429</td>\n",
       "    </tr>\n",
       "  </tbody>\n",
       "</table>\n",
       "</div>"
      ],
      "text/plain": [
       "      customer_id  salary_freq  salary_amount  annual_salary\n",
       "0  CUS-2487424745            7        1013.67   52891.852500\n",
       "1  CUS-2142601169            7        1002.13   52289.711786\n",
       "2  CUS-1614226872            7         892.09   46547.981786\n",
       "3  CUS-2688605418           14        2320.30   60534.969643\n",
       "4  CUS-4123612273            7        1068.04   55728.801429"
      ]
     },
     "execution_count": 37,
     "metadata": {},
     "output_type": "execute_result"
    }
   ],
   "source": [
    "#Target variables\n",
    "salary_df.head()"
   ]
  },
  {
   "cell_type": "code",
   "execution_count": 38,
   "id": "9fe80d92",
   "metadata": {},
   "outputs": [
    {
     "data": {
      "text/html": [
       "<div>\n",
       "<style scoped>\n",
       "    .dataframe tbody tr th:only-of-type {\n",
       "        vertical-align: middle;\n",
       "    }\n",
       "\n",
       "    .dataframe tbody tr th {\n",
       "        vertical-align: top;\n",
       "    }\n",
       "\n",
       "    .dataframe thead th {\n",
       "        text-align: right;\n",
       "    }\n",
       "</style>\n",
       "<table border=\"1\" class=\"dataframe\">\n",
       "  <thead>\n",
       "    <tr style=\"text-align: right;\">\n",
       "      <th></th>\n",
       "      <th>customer_id</th>\n",
       "      <th>max_amount</th>\n",
       "      <th>avg_weekly</th>\n",
       "      <th>not_large</th>\n",
       "      <th>avg_trx</th>\n",
       "      <th>median_blc</th>\n",
       "      <th>state</th>\n",
       "      <th>age</th>\n",
       "      <th>gender</th>\n",
       "      <th>annual_salary</th>\n",
       "    </tr>\n",
       "  </thead>\n",
       "  <tbody>\n",
       "    <tr>\n",
       "      <th>0</th>\n",
       "      <td>CUS-2487424745</td>\n",
       "      <td>1452.21</td>\n",
       "      <td>48</td>\n",
       "      <td>22</td>\n",
       "      <td>45.348772</td>\n",
       "      <td>1580.40</td>\n",
       "      <td>QLD</td>\n",
       "      <td>26</td>\n",
       "      <td>F</td>\n",
       "      <td>52891.852500</td>\n",
       "    </tr>\n",
       "    <tr>\n",
       "      <th>1</th>\n",
       "      <td>CUS-2142601169</td>\n",
       "      <td>2349.55</td>\n",
       "      <td>29</td>\n",
       "      <td>23</td>\n",
       "      <td>78.206106</td>\n",
       "      <td>1132.66</td>\n",
       "      <td>NSW</td>\n",
       "      <td>38</td>\n",
       "      <td>M</td>\n",
       "      <td>52289.711786</td>\n",
       "    </tr>\n",
       "    <tr>\n",
       "      <th>2</th>\n",
       "      <td>CUS-1614226872</td>\n",
       "      <td>892.09</td>\n",
       "      <td>24</td>\n",
       "      <td>22</td>\n",
       "      <td>74.465019</td>\n",
       "      <td>3618.50</td>\n",
       "      <td>QLD</td>\n",
       "      <td>40</td>\n",
       "      <td>F</td>\n",
       "      <td>46547.981786</td>\n",
       "    </tr>\n",
       "    <tr>\n",
       "      <th>3</th>\n",
       "      <td>CUS-2688605418</td>\n",
       "      <td>2320.30</td>\n",
       "      <td>14</td>\n",
       "      <td>25</td>\n",
       "      <td>159.304186</td>\n",
       "      <td>5616.63</td>\n",
       "      <td>NSW</td>\n",
       "      <td>20</td>\n",
       "      <td>M</td>\n",
       "      <td>60534.969643</td>\n",
       "    </tr>\n",
       "    <tr>\n",
       "      <th>4</th>\n",
       "      <td>CUS-4123612273</td>\n",
       "      <td>1068.04</td>\n",
       "      <td>21</td>\n",
       "      <td>32</td>\n",
       "      <td>166.508358</td>\n",
       "      <td>6162.45</td>\n",
       "      <td>VIC</td>\n",
       "      <td>43</td>\n",
       "      <td>F</td>\n",
       "      <td>55728.801429</td>\n",
       "    </tr>\n",
       "  </tbody>\n",
       "</table>\n",
       "</div>"
      ],
      "text/plain": [
       "      customer_id  max_amount  avg_weekly  not_large     avg_trx  median_blc  \\\n",
       "0  CUS-2487424745     1452.21          48         22   45.348772     1580.40   \n",
       "1  CUS-2142601169     2349.55          29         23   78.206106     1132.66   \n",
       "2  CUS-1614226872      892.09          24         22   74.465019     3618.50   \n",
       "3  CUS-2688605418     2320.30          14         25  159.304186     5616.63   \n",
       "4  CUS-4123612273     1068.04          21         32  166.508358     6162.45   \n",
       "\n",
       "  state  age gender  annual_salary  \n",
       "0   QLD   26      F   52891.852500  \n",
       "1   NSW   38      M   52289.711786  \n",
       "2   QLD   40      F   46547.981786  \n",
       "3   NSW   20      M   60534.969643  \n",
       "4   VIC   43      F   55728.801429  "
      ]
     },
     "execution_count": 38,
     "metadata": {},
     "output_type": "execute_result"
    }
   ],
   "source": [
    "#Concat annual salary to features dataframe\n",
    "df = pd.concat([features_df, salary_df.annual_salary], axis=1)\n",
    "df.head()"
   ]
  },
  {
   "cell_type": "code",
   "execution_count": 39,
   "id": "6c2501b5",
   "metadata": {},
   "outputs": [
    {
     "data": {
      "text/plain": [
       "customer_id      0\n",
       "max_amount       0\n",
       "avg_weekly       0\n",
       "not_large        0\n",
       "avg_trx          0\n",
       "median_blc       0\n",
       "state            0\n",
       "age              0\n",
       "gender           0\n",
       "annual_salary    0\n",
       "dtype: int64"
      ]
     },
     "execution_count": 39,
     "metadata": {},
     "output_type": "execute_result"
    }
   ],
   "source": [
    "df.isnull().sum()"
   ]
  },
  {
   "cell_type": "markdown",
   "id": "ce7d3a05",
   "metadata": {},
   "source": [
    "There's no missing values, it means a final dataframe is now readt for preprocessing and modelling"
   ]
  },
  {
   "cell_type": "markdown",
   "id": "6879b05a",
   "metadata": {},
   "source": [
    "### Preprocessing"
   ]
  },
  {
   "cell_type": "markdown",
   "id": "766a05e1",
   "metadata": {},
   "source": [
    "#### Data split\n",
    "It will be splitted into data training and data testing, which 70% of the dataframe into training set and 30% of the dataframe into testing set"
   ]
  },
  {
   "cell_type": "code",
   "execution_count": 40,
   "id": "0d1072be",
   "metadata": {},
   "outputs": [
    {
     "name": "stdout",
     "output_type": "stream",
     "text": [
      "x shape:  (100, 8)\n",
      "y shape:  (100,)\n"
     ]
    }
   ],
   "source": [
    "x = df.drop([\"customer_id\", \"annual_salary\"], axis=1)\n",
    "y = df.annual_salary\n",
    "\n",
    "print(\"x shape: \", x.shape)\n",
    "print(\"y shape: \", y.shape)"
   ]
  },
  {
   "cell_type": "code",
   "execution_count": 41,
   "id": "899a1427",
   "metadata": {},
   "outputs": [
    {
     "name": "stdout",
     "output_type": "stream",
     "text": [
      "x_train shape:  (70, 8)\n",
      "y_train shape:  (70,)\n",
      "x_test shape:  (30, 8)\n",
      "y_test shape:  (30,)\n"
     ]
    }
   ],
   "source": [
    "x_train, x_test, y_train, y_test = train_test_split(x, y, test_size=0.3, random_state=42)\n",
    "\n",
    "print(\"x_train shape: \", x_train.shape)\n",
    "print(\"y_train shape: \", y_train.shape)\n",
    "print(\"x_test shape: \", x_test.shape)\n",
    "print(\"y_test shape: \", y_test.shape)"
   ]
  },
  {
   "cell_type": "markdown",
   "id": "b9eedc92",
   "metadata": {},
   "source": [
    "#### Transform the column with one-hot encoder and standard scaler\n",
    "It should be scaled into a numerical variables because models can't train on varibales that contain text"
   ]
  },
  {
   "cell_type": "code",
   "execution_count": 48,
   "id": "e581a535",
   "metadata": {},
   "outputs": [],
   "source": [
    "onehot = OneHotEncoder(sparse=False)\n",
    "scaler = StandardScaler()\n",
    "column_transform = make_column_transformer((onehot, [\"state\", \"gender\"]), (scaler, [\"avg_weekly\", \"max_amount\", \"not_large\", \"avg_trx\", \"median_blc\", \"age\"]))"
   ]
  },
  {
   "cell_type": "markdown",
   "id": "cecc25b2",
   "metadata": {},
   "source": [
    "### Predict\n",
    "\n",
    "Trying to predict with Linear Regression and Desicion Tree"
   ]
  },
  {
   "cell_type": "markdown",
   "id": "e76d9029",
   "metadata": {},
   "source": [
    "#### Linear Regression"
   ]
  },
  {
   "cell_type": "code",
   "execution_count": 49,
   "id": "0e77a80e",
   "metadata": {},
   "outputs": [],
   "source": [
    "lr = LinearRegression()\n",
    "lr_pipeline = make_pipeline(column_transform, lr)"
   ]
  },
  {
   "cell_type": "code",
   "execution_count": 50,
   "id": "de1ef231",
   "metadata": {},
   "outputs": [],
   "source": [
    "lr_pipeline.fit(x_train, y_train)\n",
    "lr_pred = lr_pipeline.predict(x_test)"
   ]
  },
  {
   "cell_type": "code",
   "execution_count": 51,
   "id": "d8e4e192",
   "metadata": {},
   "outputs": [
    {
     "name": "stdout",
     "output_type": "stream",
     "text": [
      "RMSE:  27836\n"
     ]
    }
   ],
   "source": [
    "print(\"RMSE: \", round(np.sqrt(mean_squared_error(lr_pred, y_test))))"
   ]
  },
  {
   "cell_type": "markdown",
   "id": "8e5c36d1",
   "metadata": {},
   "source": [
    "#### Decision Tree"
   ]
  },
  {
   "cell_type": "code",
   "execution_count": 52,
   "id": "de748fa2",
   "metadata": {},
   "outputs": [],
   "source": [
    "dt = DecisionTreeRegressor()\n",
    "dt_pipeline = make_pipeline(column_transform, dt)"
   ]
  },
  {
   "cell_type": "code",
   "execution_count": 53,
   "id": "a985736b",
   "metadata": {},
   "outputs": [],
   "source": [
    "dt_pipeline.fit(x_train, y_train)\n",
    "dt_pred = dt_pipeline.predict(x_test)"
   ]
  },
  {
   "cell_type": "code",
   "execution_count": 54,
   "id": "0f661835",
   "metadata": {},
   "outputs": [
    {
     "name": "stdout",
     "output_type": "stream",
     "text": [
      "RMSE:  21344\n"
     ]
    }
   ],
   "source": [
    "print(\"RMSE: \", round(np.sqrt(mean_squared_error(dt_pred, y_test))))"
   ]
  }
 ],
 "metadata": {
  "kernelspec": {
   "display_name": "Python 3",
   "language": "python",
   "name": "python3"
  },
  "language_info": {
   "codemirror_mode": {
    "name": "ipython",
    "version": 3
   },
   "file_extension": ".py",
   "mimetype": "text/x-python",
   "name": "python",
   "nbconvert_exporter": "python",
   "pygments_lexer": "ipython3",
   "version": "3.8.8"
  }
 },
 "nbformat": 4,
 "nbformat_minor": 5
}
